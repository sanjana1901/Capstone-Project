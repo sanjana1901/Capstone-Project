{
 "cells": [
  {
   "cell_type": "code",
   "execution_count": 1,
   "id": "2d884190",
   "metadata": {},
   "outputs": [],
   "source": [
    "import sklearn\n",
    "import pandas as pd\n",
    "from sklearn.model_selection import train_test_split\n",
    "from sklearn.linear_model import LogisticRegression\n",
    "from sklearn.naive_bayes import GaussianNB\n",
    "from sklearn.metrics import classification_report\n",
    "from sklearn.metrics import confusion_matrix\n",
    "from sklearn.metrics import accuracy_score"
   ]
  },
  {
   "cell_type": "code",
   "execution_count": 2,
   "id": "5864bb8b",
   "metadata": {},
   "outputs": [
    {
     "name": "stdout",
     "output_type": "stream",
     "text": [
      "<class 'pandas.core.frame.DataFrame'>\n",
      "RangeIndex: 40000 entries, 0 to 39999\n",
      "Data columns (total 45 columns):\n",
      " #   Column            Non-Null Count  Dtype  \n",
      "---  ------            --------------  -----  \n",
      " 0   Unnamed: 0.1      40000 non-null  int64  \n",
      " 1   Unnamed: 0        40000 non-null  int64  \n",
      " 2   Hour              40000 non-null  int64  \n",
      " 3   HR                40000 non-null  float64\n",
      " 4   O2Sat             40000 non-null  float64\n",
      " 5   Temp              40000 non-null  float64\n",
      " 6   SBP               40000 non-null  float64\n",
      " 7   MAP               40000 non-null  float64\n",
      " 8   DBP               40000 non-null  float64\n",
      " 9   Resp              40000 non-null  float64\n",
      " 10  EtCO2             40000 non-null  float64\n",
      " 11  BaseExcess        40000 non-null  float64\n",
      " 12  HCO3              40000 non-null  float64\n",
      " 13  FiO2              40000 non-null  float64\n",
      " 14  pH                40000 non-null  float64\n",
      " 15  PaCO2             40000 non-null  float64\n",
      " 16  SaO2              40000 non-null  float64\n",
      " 17  AST               40000 non-null  float64\n",
      " 18  BUN               40000 non-null  float64\n",
      " 19  Alkalinephos      40000 non-null  float64\n",
      " 20  Calcium           40000 non-null  float64\n",
      " 21  Chloride          40000 non-null  float64\n",
      " 22  Creatinine        40000 non-null  float64\n",
      " 23  Bilirubin_direct  40000 non-null  float64\n",
      " 24  Glucose           40000 non-null  float64\n",
      " 25  Lactate           40000 non-null  float64\n",
      " 26  Magnesium         40000 non-null  float64\n",
      " 27  Phosphate         40000 non-null  float64\n",
      " 28  Potassium         40000 non-null  float64\n",
      " 29  Bilirubin_total   40000 non-null  float64\n",
      " 30  TroponinI         40000 non-null  float64\n",
      " 31  Hct               40000 non-null  float64\n",
      " 32  Hgb               40000 non-null  float64\n",
      " 33  PTT               40000 non-null  float64\n",
      " 34  WBC               40000 non-null  float64\n",
      " 35  Fibrinogen        40000 non-null  float64\n",
      " 36  Platelets         40000 non-null  float64\n",
      " 37  Age               40000 non-null  float64\n",
      " 38  Gender            40000 non-null  int64  \n",
      " 39  Unit1             40000 non-null  float64\n",
      " 40  Unit2             40000 non-null  float64\n",
      " 41  HospAdmTime       40000 non-null  float64\n",
      " 42  ICULOS            40000 non-null  int64  \n",
      " 43  SepsisLabel       40000 non-null  int64  \n",
      " 44  Patient_ID        40000 non-null  int64  \n",
      "dtypes: float64(38), int64(7)\n",
      "memory usage: 13.7 MB\n"
     ]
    }
   ],
   "source": [
    "data = pd.read_csv('CleanDataset.csv')\n",
    "data.info()\n",
    "#data.fillna(0)\n",
    "x = data.drop([\"SepsisLabel\"], axis = 1)\n",
    "y = data.SepsisLabel.values\n",
    "\n",
    "x_train, x_test, y_train, y_test = train_test_split(x, y, test_size = 0.3, random_state = 42)\n"
   ]
  },
  {
   "cell_type": "markdown",
   "id": "8b3eb9fb",
   "metadata": {},
   "source": [
    "# Naive bayes"
   ]
  },
  {
   "cell_type": "code",
   "execution_count": 3,
   "id": "f08f2426",
   "metadata": {
    "scrolled": true
   },
   "outputs": [
    {
     "name": "stdout",
     "output_type": "stream",
     "text": [
      "Naive Bayes score:  0.7670833333333333\n"
     ]
    }
   ],
   "source": [
    "from sklearn.naive_bayes import GaussianNB\n",
    "nb = GaussianNB()\n",
    "nb.fit(x_train, y_train)\n",
    "print(\"Naive Bayes score: \",nb.score(x_test, y_test))\n"
   ]
  },
  {
   "cell_type": "code",
   "execution_count": 4,
   "id": "3e87ac1d",
   "metadata": {},
   "outputs": [
    {
     "name": "stdout",
     "output_type": "stream",
     "text": [
      "Naive Bayes score:  0.7670833333333333\n"
     ]
    }
   ],
   "source": [
    "from sklearn.naive_bayes import GaussianNB\n",
    "nb = GaussianNB()\n",
    "nb.fit(x_train, y_train)\n",
    "print(\"Naive Bayes score: \",nb.score(x_test, y_test))\n"
   ]
  },
  {
   "cell_type": "markdown",
   "id": "31703d4a",
   "metadata": {},
   "source": [
    "# Logistic Regression"
   ]
  },
  {
   "cell_type": "code",
   "execution_count": 5,
   "id": "7c5c011a",
   "metadata": {},
   "outputs": [
    {
     "name": "stdout",
     "output_type": "stream",
     "text": [
      "              precision    recall  f1-score   support\n",
      "\n",
      "           0       0.97      0.97      0.97      6003\n",
      "           1       0.97      0.97      0.97      5997\n",
      "\n",
      "    accuracy                           0.97     12000\n",
      "   macro avg       0.97      0.97      0.97     12000\n",
      "weighted avg       0.97      0.97      0.97     12000\n",
      "\n"
     ]
    },
    {
     "name": "stderr",
     "output_type": "stream",
     "text": [
      "C:\\Users\\pavan\\anaconda3\\lib\\site-packages\\sklearn\\linear_model\\_logistic.py:814: ConvergenceWarning: lbfgs failed to converge (status=1):\n",
      "STOP: TOTAL NO. of ITERATIONS REACHED LIMIT.\n",
      "\n",
      "Increase the number of iterations (max_iter) or scale the data as shown in:\n",
      "    https://scikit-learn.org/stable/modules/preprocessing.html\n",
      "Please also refer to the documentation for alternative solver options:\n",
      "    https://scikit-learn.org/stable/modules/linear_model.html#logistic-regression\n",
      "  n_iter_i = _check_optimize_result(\n"
     ]
    }
   ],
   "source": [
    "from sklearn.linear_model import LogisticRegression\n",
    "reg_log = LogisticRegression()\n",
    "reg_log.fit(x_train, y_train)\n",
    "y_pred = reg_log.predict(x_test)\n",
    "from sklearn import metrics\n",
    "print(metrics.classification_report(y_test, y_pred))\n"
   ]
  },
  {
   "cell_type": "markdown",
   "id": "e6dc8d04",
   "metadata": {},
   "source": [
    "# Random Forest"
   ]
  },
  {
   "cell_type": "code",
   "execution_count": 6,
   "id": "69efe73e",
   "metadata": {},
   "outputs": [
    {
     "name": "stdout",
     "output_type": "stream",
     "text": [
      "              precision    recall  f1-score   support\n",
      "\n",
      "           0       1.00      1.00      1.00      6003\n",
      "           1       1.00      1.00      1.00      5997\n",
      "\n",
      "    accuracy                           1.00     12000\n",
      "   macro avg       1.00      1.00      1.00     12000\n",
      "weighted avg       1.00      1.00      1.00     12000\n",
      "\n"
     ]
    }
   ],
   "source": [
    "from sklearn.ensemble import RandomForestClassifier\n",
    "reg_rf = RandomForestClassifier()\n",
    "reg_rf.fit(x_train, y_train)\n",
    "y_pred = reg_rf.predict(x_test)\n",
    "print(metrics.classification_report(y_test, y_pred))"
   ]
  },
  {
   "cell_type": "markdown",
   "id": "36f46ccb",
   "metadata": {},
   "source": [
    "# Support Vector Machine"
   ]
  },
  {
   "cell_type": "code",
   "execution_count": 7,
   "id": "2bd67837",
   "metadata": {},
   "outputs": [
    {
     "name": "stdout",
     "output_type": "stream",
     "text": [
      "              precision    recall  f1-score   support\n",
      "\n",
      "           0       0.58      0.24      0.34      6003\n",
      "           1       0.52      0.82      0.64      5997\n",
      "\n",
      "    accuracy                           0.53     12000\n",
      "   macro avg       0.55      0.53      0.49     12000\n",
      "weighted avg       0.55      0.53      0.49     12000\n",
      "\n"
     ]
    }
   ],
   "source": [
    "from sklearn.svm import SVC\n",
    "reg_svc = SVC()\n",
    "reg_svc.fit(x_train, y_train)\n",
    "y_pred = reg_svc.predict(x_test)\n",
    "print(metrics.classification_report(y_test, y_pred))"
   ]
  },
  {
   "cell_type": "markdown",
   "id": "fe296f37",
   "metadata": {},
   "source": [
    "# K Nearest Neighbors"
   ]
  },
  {
   "cell_type": "code",
   "execution_count": 8,
   "id": "0a59317f",
   "metadata": {},
   "outputs": [
    {
     "name": "stderr",
     "output_type": "stream",
     "text": [
      "C:\\Users\\pavan\\anaconda3\\lib\\site-packages\\sklearn\\neighbors\\_classification.py:228: FutureWarning: Unlike other reduction functions (e.g. `skew`, `kurtosis`), the default behavior of `mode` typically preserves the axis it acts along. In SciPy 1.11.0, this behavior will change: the default value of `keepdims` will become False, the `axis` over which the statistic is taken will be eliminated, and the value None will no longer be accepted. Set `keepdims` to True or False to avoid this warning.\n",
      "  mode, _ = stats.mode(_y[neigh_ind, k], axis=1)\n"
     ]
    },
    {
     "name": "stdout",
     "output_type": "stream",
     "text": [
      "              precision    recall  f1-score   support\n",
      "\n",
      "           0       0.97      0.66      0.78      6003\n",
      "           1       0.74      0.98      0.84      5997\n",
      "\n",
      "    accuracy                           0.82     12000\n",
      "   macro avg       0.86      0.82      0.81     12000\n",
      "weighted avg       0.86      0.82      0.81     12000\n",
      "\n"
     ]
    }
   ],
   "source": [
    "from sklearn.neighbors import KNeighborsClassifier\n",
    "reg_knn = KNeighborsClassifier()\n",
    "reg_knn.fit(x_train, y_train)\n",
    "y_pred = reg_knn.predict(x_test)\n",
    "print(metrics.classification_report(y_test, y_pred))"
   ]
  },
  {
   "cell_type": "code",
   "execution_count": null,
   "id": "9932e468",
   "metadata": {},
   "outputs": [],
   "source": []
  }
 ],
 "metadata": {
  "kernelspec": {
   "display_name": "Python 3 (ipykernel)",
   "language": "python",
   "name": "python3"
  },
  "language_info": {
   "codemirror_mode": {
    "name": "ipython",
    "version": 3
   },
   "file_extension": ".py",
   "mimetype": "text/x-python",
   "name": "python",
   "nbconvert_exporter": "python",
   "pygments_lexer": "ipython3",
   "version": "3.9.13"
  }
 },
 "nbformat": 4,
 "nbformat_minor": 5
}
